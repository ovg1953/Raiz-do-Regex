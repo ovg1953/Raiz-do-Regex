{
 "cells": [
  {
   "cell_type": "markdown",
   "metadata": {},
   "source": [
    "#### regex 29/09/2020\n",
    "\n",
    "_Estou segundo o livro do Aurélio, mas não estou gostando_\n",
    "\n",
    "Encontrei um ótimo site para estudo on-line [aqui](https://regexone.com/)\n",
    "\n",
    "Estou procurando arquivos texto com conteudo para praticar o regex\n",
    "\n",
    "** MUITO LEGAL O QUE ENCONTREI **\n",
    "\n",
    "NLPK = Natural Language Processing Package: É uma biblioteca utilizada pelo PYTHON \n",
    "para o processamento de linguagem corrente.\n",
    "\n",
    "Tutorial [aqui](https://www.nltk.org/book/ch00.html)\n",
    "\n",
    "Já esta instalada no Anaconda"
   ]
  },
  {
   "cell_type": "code",
   "execution_count": null,
   "metadata": {},
   "outputs": [],
   "source": []
  }
 ],
 "metadata": {
  "kernelspec": {
   "display_name": "Python 3.8.3 64-bit ('ovgalva': virtualenv)",
   "language": "python",
   "name": "python38364bitovgalvavirtualenv55955dac564f40579d96bce56c92f900"
  },
  "language_info": {
   "codemirror_mode": {
    "name": "ipython",
    "version": 3
   },
   "file_extension": ".py",
   "mimetype": "text/x-python",
   "name": "python",
   "nbconvert_exporter": "python",
   "pygments_lexer": "ipython3",
   "version": "3.8.3"
  }
 },
 "nbformat": 4,
 "nbformat_minor": 4
}
