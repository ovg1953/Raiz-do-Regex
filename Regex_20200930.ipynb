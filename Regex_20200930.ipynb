{
 "cells": [
  {
   "cell_type": "markdown",
   "metadata": {},
   "source": [
    "Instalei o UBUNTU para windwos para poder praticar o GREP & BASH\n",
    "\n",
    "Criei atalhos do root do ubuntu e do home de ovgalva no desaktop\n",
    "\n",
    "PRONTO PARA TRABALHAR\n",
    "\n",
    "ATENÇÃO: TENTEI INSTALAR A INTERFACE GRÁFICA NO UBUNTU E DEU ZEBRA;\n",
    "> DESINSTALEI E TENTEI REINSTALAR MAS NÃO ROLOU - PASSEI O DIA TENTANDO\n",
    "> MAS NÃO ROLOU. ENTÃO INSTALEI O CYGWIN PARA PODER TRABALHAR\n"
   ]
  }
 ],
 "metadata": {
  "kernelspec": {
   "display_name": "Python 3",
   "language": "python",
   "name": "python3"
  },
  "language_info": {
   "codemirror_mode": {
    "name": "ipython",
    "version": 3
   },
   "file_extension": ".py",
   "mimetype": "text/x-python",
   "name": "python",
   "nbconvert_exporter": "python",
   "pygments_lexer": "ipython3",
   "version": "3.8.3"
  }
 },
 "nbformat": 4,
 "nbformat_minor": 4
}
